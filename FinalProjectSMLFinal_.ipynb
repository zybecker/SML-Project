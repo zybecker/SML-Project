{
  "cells": [
    {
      "cell_type": "markdown",
      "metadata": {
        "id": "t578aFR6tpKi"
      },
      "source": [
        "# Imports"
      ]
    },
    {
      "cell_type": "code",
      "execution_count": null,
      "metadata": {
        "id": "-WNsC9EhmwOM"
      },
      "outputs": [],
      "source": [
        "import matplotlib.pyplot as plt\n",
        "import seaborn as sns\n",
        "import pandas as pd\n",
        "import numpy as np"
      ]
    },
    {
      "cell_type": "markdown",
      "metadata": {
        "id": "RJMY9WzItw8h"
      },
      "source": [
        "# Getting Data"
      ]
    },
    {
      "cell_type": "markdown",
      "metadata": {
        "id": "as_F7DyUt2T0"
      },
      "source": [
        "We are seeking to find out what the driving force is behind the popularity of Super Bowl commercials. The Super Bowl provides an opportunity for brands to promote their products with unique and often over-the-top commercials, so we want to discover what the defining characteristics are for a successful Super Bowl ad.\n",
        "\n",
        "Brands pay millions of dollars for an ad during Super Bowl commercial breaks, and a significant portion of viewers enjoy the commercials just as much as the actual sporting event. Viewers often rank their favorite commercials and brands can truly make significant profits if they can put out a hit commercial. Thus, it is valuable to see which combination of absurdity, hilarity, danger, sex appeal, etc. enthralls the most viewers."
      ]
    },
    {
      "cell_type": "code",
      "execution_count": null,
      "metadata": {
        "id": "QEUe2LJKVDTo"
      },
      "outputs": [],
      "source": [
        "url = 'https://raw.githubusercontent.com/Nishith-Reddy/superbowl/main/youtube.csv'\n",
        "df = pd.read_csv(url)"
      ]
    },
    {
      "cell_type": "code",
      "execution_count": null,
      "metadata": {
        "colab": {
          "base_uri": "https://localhost:8080/",
          "height": 620
        },
        "id": "JcBApKmLVI6p",
        "outputId": "e50abeaf-043b-405b-f24d-7e525c8c95c4"
      },
      "outputs": [
        {
          "output_type": "execute_result",
          "data": {
            "text/plain": [
              "   year      brand                          superbowl_ads_dot_com_url  \\\n",
              "0  2018     Toyota        https://superbowl-ads.com/good-odds-toyota/   \n",
              "1  2020  Bud Light  https://superbowl-ads.com/2020-bud-light-seltz...   \n",
              "2  2006  Bud Light  https://superbowl-ads.com/2006-bud-light-bear-...   \n",
              "3  2018    Hynudai  https://superbowl-ads.com/hope-detector-nfl-su...   \n",
              "4  2003  Bud Light  https://superbowl-ads.com/2003-bud-light-hermi...   \n",
              "\n",
              "                                   youtube_url  funny  show_product_quickly  \\\n",
              "0  https://www.youtube.com/watch?v=zeBZvwYQ-hA  False                 False   \n",
              "1  https://www.youtube.com/watch?v=nbbp0VW7z8w   True                  True   \n",
              "2  https://www.youtube.com/watch?v=yk0MQD5YgV8   True                 False   \n",
              "3  https://www.youtube.com/watch?v=lNPccrGk77A  False                  True   \n",
              "4  https://www.youtube.com/watch?v=ovQYgnXHooY   True                  True   \n",
              "\n",
              "   patriotic  celebrity  danger  animals  ...  like_count dislike_count  \\\n",
              "0      False      False   False    False  ...      1233.0          38.0   \n",
              "1      False       True    True    False  ...       485.0          14.0   \n",
              "2      False      False    True     True  ...       129.0          15.0   \n",
              "3      False      False   False    False  ...         2.0           0.0   \n",
              "4      False      False    True     True  ...        20.0           3.0   \n",
              "\n",
              "  favorite_count comment_count         published_at  \\\n",
              "0            0.0           NaN  2018-02-03 11:29:14   \n",
              "1            0.0          14.0  2020-01-31 21:04:13   \n",
              "2            0.0           9.0  2006-02-06 10:02:36   \n",
              "3            0.0           0.0  2018-03-09 15:40:18   \n",
              "4            0.0           2.0  2006-07-18 04:53:42   \n",
              "\n",
              "                                               title  \\\n",
              "0        Toyota Super Bowl Commercial 2018 Good Odds   \n",
              "1  Bud Light: Post Malone #PostyStore Inside Post...   \n",
              "2         Super Bowl 2006: Bud Light \"Save Yourself\"   \n",
              "3                     Hyundai / Hope Detector (2018)   \n",
              "4                                  bud light pick up   \n",
              "\n",
              "                                         description  \\\n",
              "0  Toyota Super Bowl Commercial 2018 Good Odds. Y...   \n",
              "1  Bud Light, Post Malone \"#PostyStore Inside Pos...   \n",
              "2  Bud Light Super Bowl commercial where two guys...   \n",
              "3  TV or Web Commercial,  shot on location in MN ...   \n",
              "4  see how a dude tries to pick up babes at a bea...   \n",
              "\n",
              "                                          thumbnail      channel_title  \\\n",
              "0  https://i.ytimg.com/vi/zeBZvwYQ-hA/sddefault.jpg  Funny Commercials   \n",
              "1  https://i.ytimg.com/vi/nbbp0VW7z8w/sddefault.jpg    VCU Brandcenter   \n",
              "2                                               NaN       John Keehler   \n",
              "3                                               NaN          IATSE 490   \n",
              "4                                               NaN           jassymei   \n",
              "\n",
              "  category_id  \n",
              "0         1.0  \n",
              "1        27.0  \n",
              "2        17.0  \n",
              "3        22.0  \n",
              "4        24.0  \n",
              "\n",
              "[5 rows x 25 columns]"
            ],
            "text/html": [
              "\n",
              "  <div id=\"df-685ab91e-cdaa-4066-9e09-af3d4c530e4f\" class=\"colab-df-container\">\n",
              "    <div>\n",
              "<style scoped>\n",
              "    .dataframe tbody tr th:only-of-type {\n",
              "        vertical-align: middle;\n",
              "    }\n",
              "\n",
              "    .dataframe tbody tr th {\n",
              "        vertical-align: top;\n",
              "    }\n",
              "\n",
              "    .dataframe thead th {\n",
              "        text-align: right;\n",
              "    }\n",
              "</style>\n",
              "<table border=\"1\" class=\"dataframe\">\n",
              "  <thead>\n",
              "    <tr style=\"text-align: right;\">\n",
              "      <th></th>\n",
              "      <th>year</th>\n",
              "      <th>brand</th>\n",
              "      <th>superbowl_ads_dot_com_url</th>\n",
              "      <th>youtube_url</th>\n",
              "      <th>funny</th>\n",
              "      <th>show_product_quickly</th>\n",
              "      <th>patriotic</th>\n",
              "      <th>celebrity</th>\n",
              "      <th>danger</th>\n",
              "      <th>animals</th>\n",
              "      <th>...</th>\n",
              "      <th>like_count</th>\n",
              "      <th>dislike_count</th>\n",
              "      <th>favorite_count</th>\n",
              "      <th>comment_count</th>\n",
              "      <th>published_at</th>\n",
              "      <th>title</th>\n",
              "      <th>description</th>\n",
              "      <th>thumbnail</th>\n",
              "      <th>channel_title</th>\n",
              "      <th>category_id</th>\n",
              "    </tr>\n",
              "  </thead>\n",
              "  <tbody>\n",
              "    <tr>\n",
              "      <th>0</th>\n",
              "      <td>2018</td>\n",
              "      <td>Toyota</td>\n",
              "      <td>https://superbowl-ads.com/good-odds-toyota/</td>\n",
              "      <td>https://www.youtube.com/watch?v=zeBZvwYQ-hA</td>\n",
              "      <td>False</td>\n",
              "      <td>False</td>\n",
              "      <td>False</td>\n",
              "      <td>False</td>\n",
              "      <td>False</td>\n",
              "      <td>False</td>\n",
              "      <td>...</td>\n",
              "      <td>1233.0</td>\n",
              "      <td>38.0</td>\n",
              "      <td>0.0</td>\n",
              "      <td>NaN</td>\n",
              "      <td>2018-02-03 11:29:14</td>\n",
              "      <td>Toyota Super Bowl Commercial 2018 Good Odds</td>\n",
              "      <td>Toyota Super Bowl Commercial 2018 Good Odds. Y...</td>\n",
              "      <td>https://i.ytimg.com/vi/zeBZvwYQ-hA/sddefault.jpg</td>\n",
              "      <td>Funny Commercials</td>\n",
              "      <td>1.0</td>\n",
              "    </tr>\n",
              "    <tr>\n",
              "      <th>1</th>\n",
              "      <td>2020</td>\n",
              "      <td>Bud Light</td>\n",
              "      <td>https://superbowl-ads.com/2020-bud-light-seltz...</td>\n",
              "      <td>https://www.youtube.com/watch?v=nbbp0VW7z8w</td>\n",
              "      <td>True</td>\n",
              "      <td>True</td>\n",
              "      <td>False</td>\n",
              "      <td>True</td>\n",
              "      <td>True</td>\n",
              "      <td>False</td>\n",
              "      <td>...</td>\n",
              "      <td>485.0</td>\n",
              "      <td>14.0</td>\n",
              "      <td>0.0</td>\n",
              "      <td>14.0</td>\n",
              "      <td>2020-01-31 21:04:13</td>\n",
              "      <td>Bud Light: Post Malone #PostyStore Inside Post...</td>\n",
              "      <td>Bud Light, Post Malone \"#PostyStore Inside Pos...</td>\n",
              "      <td>https://i.ytimg.com/vi/nbbp0VW7z8w/sddefault.jpg</td>\n",
              "      <td>VCU Brandcenter</td>\n",
              "      <td>27.0</td>\n",
              "    </tr>\n",
              "    <tr>\n",
              "      <th>2</th>\n",
              "      <td>2006</td>\n",
              "      <td>Bud Light</td>\n",
              "      <td>https://superbowl-ads.com/2006-bud-light-bear-...</td>\n",
              "      <td>https://www.youtube.com/watch?v=yk0MQD5YgV8</td>\n",
              "      <td>True</td>\n",
              "      <td>False</td>\n",
              "      <td>False</td>\n",
              "      <td>False</td>\n",
              "      <td>True</td>\n",
              "      <td>True</td>\n",
              "      <td>...</td>\n",
              "      <td>129.0</td>\n",
              "      <td>15.0</td>\n",
              "      <td>0.0</td>\n",
              "      <td>9.0</td>\n",
              "      <td>2006-02-06 10:02:36</td>\n",
              "      <td>Super Bowl 2006: Bud Light \"Save Yourself\"</td>\n",
              "      <td>Bud Light Super Bowl commercial where two guys...</td>\n",
              "      <td>NaN</td>\n",
              "      <td>John Keehler</td>\n",
              "      <td>17.0</td>\n",
              "    </tr>\n",
              "    <tr>\n",
              "      <th>3</th>\n",
              "      <td>2018</td>\n",
              "      <td>Hynudai</td>\n",
              "      <td>https://superbowl-ads.com/hope-detector-nfl-su...</td>\n",
              "      <td>https://www.youtube.com/watch?v=lNPccrGk77A</td>\n",
              "      <td>False</td>\n",
              "      <td>True</td>\n",
              "      <td>False</td>\n",
              "      <td>False</td>\n",
              "      <td>False</td>\n",
              "      <td>False</td>\n",
              "      <td>...</td>\n",
              "      <td>2.0</td>\n",
              "      <td>0.0</td>\n",
              "      <td>0.0</td>\n",
              "      <td>0.0</td>\n",
              "      <td>2018-03-09 15:40:18</td>\n",
              "      <td>Hyundai / Hope Detector (2018)</td>\n",
              "      <td>TV or Web Commercial,  shot on location in MN ...</td>\n",
              "      <td>NaN</td>\n",
              "      <td>IATSE 490</td>\n",
              "      <td>22.0</td>\n",
              "    </tr>\n",
              "    <tr>\n",
              "      <th>4</th>\n",
              "      <td>2003</td>\n",
              "      <td>Bud Light</td>\n",
              "      <td>https://superbowl-ads.com/2003-bud-light-hermi...</td>\n",
              "      <td>https://www.youtube.com/watch?v=ovQYgnXHooY</td>\n",
              "      <td>True</td>\n",
              "      <td>True</td>\n",
              "      <td>False</td>\n",
              "      <td>False</td>\n",
              "      <td>True</td>\n",
              "      <td>True</td>\n",
              "      <td>...</td>\n",
              "      <td>20.0</td>\n",
              "      <td>3.0</td>\n",
              "      <td>0.0</td>\n",
              "      <td>2.0</td>\n",
              "      <td>2006-07-18 04:53:42</td>\n",
              "      <td>bud light pick up</td>\n",
              "      <td>see how a dude tries to pick up babes at a bea...</td>\n",
              "      <td>NaN</td>\n",
              "      <td>jassymei</td>\n",
              "      <td>24.0</td>\n",
              "    </tr>\n",
              "  </tbody>\n",
              "</table>\n",
              "<p>5 rows × 25 columns</p>\n",
              "</div>\n",
              "    <div class=\"colab-df-buttons\">\n",
              "\n",
              "  <div class=\"colab-df-container\">\n",
              "    <button class=\"colab-df-convert\" onclick=\"convertToInteractive('df-685ab91e-cdaa-4066-9e09-af3d4c530e4f')\"\n",
              "            title=\"Convert this dataframe to an interactive table.\"\n",
              "            style=\"display:none;\">\n",
              "\n",
              "  <svg xmlns=\"http://www.w3.org/2000/svg\" height=\"24px\" viewBox=\"0 -960 960 960\">\n",
              "    <path d=\"M120-120v-720h720v720H120Zm60-500h600v-160H180v160Zm220 220h160v-160H400v160Zm0 220h160v-160H400v160ZM180-400h160v-160H180v160Zm440 0h160v-160H620v160ZM180-180h160v-160H180v160Zm440 0h160v-160H620v160Z\"/>\n",
              "  </svg>\n",
              "    </button>\n",
              "\n",
              "  <style>\n",
              "    .colab-df-container {\n",
              "      display:flex;\n",
              "      gap: 12px;\n",
              "    }\n",
              "\n",
              "    .colab-df-convert {\n",
              "      background-color: #E8F0FE;\n",
              "      border: none;\n",
              "      border-radius: 50%;\n",
              "      cursor: pointer;\n",
              "      display: none;\n",
              "      fill: #1967D2;\n",
              "      height: 32px;\n",
              "      padding: 0 0 0 0;\n",
              "      width: 32px;\n",
              "    }\n",
              "\n",
              "    .colab-df-convert:hover {\n",
              "      background-color: #E2EBFA;\n",
              "      box-shadow: 0px 1px 2px rgba(60, 64, 67, 0.3), 0px 1px 3px 1px rgba(60, 64, 67, 0.15);\n",
              "      fill: #174EA6;\n",
              "    }\n",
              "\n",
              "    .colab-df-buttons div {\n",
              "      margin-bottom: 4px;\n",
              "    }\n",
              "\n",
              "    [theme=dark] .colab-df-convert {\n",
              "      background-color: #3B4455;\n",
              "      fill: #D2E3FC;\n",
              "    }\n",
              "\n",
              "    [theme=dark] .colab-df-convert:hover {\n",
              "      background-color: #434B5C;\n",
              "      box-shadow: 0px 1px 3px 1px rgba(0, 0, 0, 0.15);\n",
              "      filter: drop-shadow(0px 1px 2px rgba(0, 0, 0, 0.3));\n",
              "      fill: #FFFFFF;\n",
              "    }\n",
              "  </style>\n",
              "\n",
              "    <script>\n",
              "      const buttonEl =\n",
              "        document.querySelector('#df-685ab91e-cdaa-4066-9e09-af3d4c530e4f button.colab-df-convert');\n",
              "      buttonEl.style.display =\n",
              "        google.colab.kernel.accessAllowed ? 'block' : 'none';\n",
              "\n",
              "      async function convertToInteractive(key) {\n",
              "        const element = document.querySelector('#df-685ab91e-cdaa-4066-9e09-af3d4c530e4f');\n",
              "        const dataTable =\n",
              "          await google.colab.kernel.invokeFunction('convertToInteractive',\n",
              "                                                    [key], {});\n",
              "        if (!dataTable) return;\n",
              "\n",
              "        const docLinkHtml = 'Like what you see? Visit the ' +\n",
              "          '<a target=\"_blank\" href=https://colab.research.google.com/notebooks/data_table.ipynb>data table notebook</a>'\n",
              "          + ' to learn more about interactive tables.';\n",
              "        element.innerHTML = '';\n",
              "        dataTable['output_type'] = 'display_data';\n",
              "        await google.colab.output.renderOutput(dataTable, element);\n",
              "        const docLink = document.createElement('div');\n",
              "        docLink.innerHTML = docLinkHtml;\n",
              "        element.appendChild(docLink);\n",
              "      }\n",
              "    </script>\n",
              "  </div>\n",
              "\n",
              "\n",
              "<div id=\"df-1bbd427c-9e63-451d-9500-1d0d9620e868\">\n",
              "  <button class=\"colab-df-quickchart\" onclick=\"quickchart('df-1bbd427c-9e63-451d-9500-1d0d9620e868')\"\n",
              "            title=\"Suggest charts\"\n",
              "            style=\"display:none;\">\n",
              "\n",
              "<svg xmlns=\"http://www.w3.org/2000/svg\" height=\"24px\"viewBox=\"0 0 24 24\"\n",
              "     width=\"24px\">\n",
              "    <g>\n",
              "        <path d=\"M19 3H5c-1.1 0-2 .9-2 2v14c0 1.1.9 2 2 2h14c1.1 0 2-.9 2-2V5c0-1.1-.9-2-2-2zM9 17H7v-7h2v7zm4 0h-2V7h2v10zm4 0h-2v-4h2v4z\"/>\n",
              "    </g>\n",
              "</svg>\n",
              "  </button>\n",
              "\n",
              "<style>\n",
              "  .colab-df-quickchart {\n",
              "      --bg-color: #E8F0FE;\n",
              "      --fill-color: #1967D2;\n",
              "      --hover-bg-color: #E2EBFA;\n",
              "      --hover-fill-color: #174EA6;\n",
              "      --disabled-fill-color: #AAA;\n",
              "      --disabled-bg-color: #DDD;\n",
              "  }\n",
              "\n",
              "  [theme=dark] .colab-df-quickchart {\n",
              "      --bg-color: #3B4455;\n",
              "      --fill-color: #D2E3FC;\n",
              "      --hover-bg-color: #434B5C;\n",
              "      --hover-fill-color: #FFFFFF;\n",
              "      --disabled-bg-color: #3B4455;\n",
              "      --disabled-fill-color: #666;\n",
              "  }\n",
              "\n",
              "  .colab-df-quickchart {\n",
              "    background-color: var(--bg-color);\n",
              "    border: none;\n",
              "    border-radius: 50%;\n",
              "    cursor: pointer;\n",
              "    display: none;\n",
              "    fill: var(--fill-color);\n",
              "    height: 32px;\n",
              "    padding: 0;\n",
              "    width: 32px;\n",
              "  }\n",
              "\n",
              "  .colab-df-quickchart:hover {\n",
              "    background-color: var(--hover-bg-color);\n",
              "    box-shadow: 0 1px 2px rgba(60, 64, 67, 0.3), 0 1px 3px 1px rgba(60, 64, 67, 0.15);\n",
              "    fill: var(--button-hover-fill-color);\n",
              "  }\n",
              "\n",
              "  .colab-df-quickchart-complete:disabled,\n",
              "  .colab-df-quickchart-complete:disabled:hover {\n",
              "    background-color: var(--disabled-bg-color);\n",
              "    fill: var(--disabled-fill-color);\n",
              "    box-shadow: none;\n",
              "  }\n",
              "\n",
              "  .colab-df-spinner {\n",
              "    border: 2px solid var(--fill-color);\n",
              "    border-color: transparent;\n",
              "    border-bottom-color: var(--fill-color);\n",
              "    animation:\n",
              "      spin 1s steps(1) infinite;\n",
              "  }\n",
              "\n",
              "  @keyframes spin {\n",
              "    0% {\n",
              "      border-color: transparent;\n",
              "      border-bottom-color: var(--fill-color);\n",
              "      border-left-color: var(--fill-color);\n",
              "    }\n",
              "    20% {\n",
              "      border-color: transparent;\n",
              "      border-left-color: var(--fill-color);\n",
              "      border-top-color: var(--fill-color);\n",
              "    }\n",
              "    30% {\n",
              "      border-color: transparent;\n",
              "      border-left-color: var(--fill-color);\n",
              "      border-top-color: var(--fill-color);\n",
              "      border-right-color: var(--fill-color);\n",
              "    }\n",
              "    40% {\n",
              "      border-color: transparent;\n",
              "      border-right-color: var(--fill-color);\n",
              "      border-top-color: var(--fill-color);\n",
              "    }\n",
              "    60% {\n",
              "      border-color: transparent;\n",
              "      border-right-color: var(--fill-color);\n",
              "    }\n",
              "    80% {\n",
              "      border-color: transparent;\n",
              "      border-right-color: var(--fill-color);\n",
              "      border-bottom-color: var(--fill-color);\n",
              "    }\n",
              "    90% {\n",
              "      border-color: transparent;\n",
              "      border-bottom-color: var(--fill-color);\n",
              "    }\n",
              "  }\n",
              "</style>\n",
              "\n",
              "  <script>\n",
              "    async function quickchart(key) {\n",
              "      const quickchartButtonEl =\n",
              "        document.querySelector('#' + key + ' button');\n",
              "      quickchartButtonEl.disabled = true;  // To prevent multiple clicks.\n",
              "      quickchartButtonEl.classList.add('colab-df-spinner');\n",
              "      try {\n",
              "        const charts = await google.colab.kernel.invokeFunction(\n",
              "            'suggestCharts', [key], {});\n",
              "      } catch (error) {\n",
              "        console.error('Error during call to suggestCharts:', error);\n",
              "      }\n",
              "      quickchartButtonEl.classList.remove('colab-df-spinner');\n",
              "      quickchartButtonEl.classList.add('colab-df-quickchart-complete');\n",
              "    }\n",
              "    (() => {\n",
              "      let quickchartButtonEl =\n",
              "        document.querySelector('#df-1bbd427c-9e63-451d-9500-1d0d9620e868 button');\n",
              "      quickchartButtonEl.style.display =\n",
              "        google.colab.kernel.accessAllowed ? 'block' : 'none';\n",
              "    })();\n",
              "  </script>\n",
              "</div>\n",
              "\n",
              "    </div>\n",
              "  </div>\n"
            ]
          },
          "metadata": {},
          "execution_count": 3
        }
      ],
      "source": [
        "df.head()"
      ]
    },
    {
      "cell_type": "code",
      "execution_count": null,
      "metadata": {
        "colab": {
          "base_uri": "https://localhost:8080/",
          "height": 300
        },
        "id": "kzn8wQcQt9pT",
        "outputId": "6e2fdd7c-a474-4d3a-a950-cfcbef60781d"
      },
      "outputs": [
        {
          "output_type": "execute_result",
          "data": {
            "text/plain": [
              "              year    view_count     like_count  dislike_count  \\\n",
              "count   247.000000  2.310000e+02     225.000000     225.000000   \n",
              "mean   2010.190283  1.407556e+06    4146.031111     833.537778   \n",
              "std       5.860872  1.197111e+07   23920.402935    6948.521873   \n",
              "min    2000.000000  1.000000e+01       0.000000       0.000000   \n",
              "25%    2005.000000  6.431000e+03      19.000000       1.000000   \n",
              "50%    2010.000000  4.137900e+04     130.000000       7.000000   \n",
              "75%    2015.000000  1.700155e+05     527.000000      24.000000   \n",
              "max    2020.000000  1.763734e+08  275362.000000   92990.000000   \n",
              "\n",
              "       favorite_count  comment_count  category_id  \n",
              "count           231.0      222.00000   231.000000  \n",
              "mean              0.0      188.63964    19.316017  \n",
              "std               0.0      986.45691     8.004328  \n",
              "min               0.0        0.00000     1.000000  \n",
              "25%               0.0        1.00000    17.000000  \n",
              "50%               0.0       10.00000    23.000000  \n",
              "75%               0.0       50.75000    24.000000  \n",
              "max               0.0     9190.00000    29.000000  "
            ],
            "text/html": [
              "\n",
              "  <div id=\"df-6fe2565c-1f02-494b-9cd2-76b269716e8d\" class=\"colab-df-container\">\n",
              "    <div>\n",
              "<style scoped>\n",
              "    .dataframe tbody tr th:only-of-type {\n",
              "        vertical-align: middle;\n",
              "    }\n",
              "\n",
              "    .dataframe tbody tr th {\n",
              "        vertical-align: top;\n",
              "    }\n",
              "\n",
              "    .dataframe thead th {\n",
              "        text-align: right;\n",
              "    }\n",
              "</style>\n",
              "<table border=\"1\" class=\"dataframe\">\n",
              "  <thead>\n",
              "    <tr style=\"text-align: right;\">\n",
              "      <th></th>\n",
              "      <th>year</th>\n",
              "      <th>view_count</th>\n",
              "      <th>like_count</th>\n",
              "      <th>dislike_count</th>\n",
              "      <th>favorite_count</th>\n",
              "      <th>comment_count</th>\n",
              "      <th>category_id</th>\n",
              "    </tr>\n",
              "  </thead>\n",
              "  <tbody>\n",
              "    <tr>\n",
              "      <th>count</th>\n",
              "      <td>247.000000</td>\n",
              "      <td>2.310000e+02</td>\n",
              "      <td>225.000000</td>\n",
              "      <td>225.000000</td>\n",
              "      <td>231.0</td>\n",
              "      <td>222.00000</td>\n",
              "      <td>231.000000</td>\n",
              "    </tr>\n",
              "    <tr>\n",
              "      <th>mean</th>\n",
              "      <td>2010.190283</td>\n",
              "      <td>1.407556e+06</td>\n",
              "      <td>4146.031111</td>\n",
              "      <td>833.537778</td>\n",
              "      <td>0.0</td>\n",
              "      <td>188.63964</td>\n",
              "      <td>19.316017</td>\n",
              "    </tr>\n",
              "    <tr>\n",
              "      <th>std</th>\n",
              "      <td>5.860872</td>\n",
              "      <td>1.197111e+07</td>\n",
              "      <td>23920.402935</td>\n",
              "      <td>6948.521873</td>\n",
              "      <td>0.0</td>\n",
              "      <td>986.45691</td>\n",
              "      <td>8.004328</td>\n",
              "    </tr>\n",
              "    <tr>\n",
              "      <th>min</th>\n",
              "      <td>2000.000000</td>\n",
              "      <td>1.000000e+01</td>\n",
              "      <td>0.000000</td>\n",
              "      <td>0.000000</td>\n",
              "      <td>0.0</td>\n",
              "      <td>0.00000</td>\n",
              "      <td>1.000000</td>\n",
              "    </tr>\n",
              "    <tr>\n",
              "      <th>25%</th>\n",
              "      <td>2005.000000</td>\n",
              "      <td>6.431000e+03</td>\n",
              "      <td>19.000000</td>\n",
              "      <td>1.000000</td>\n",
              "      <td>0.0</td>\n",
              "      <td>1.00000</td>\n",
              "      <td>17.000000</td>\n",
              "    </tr>\n",
              "    <tr>\n",
              "      <th>50%</th>\n",
              "      <td>2010.000000</td>\n",
              "      <td>4.137900e+04</td>\n",
              "      <td>130.000000</td>\n",
              "      <td>7.000000</td>\n",
              "      <td>0.0</td>\n",
              "      <td>10.00000</td>\n",
              "      <td>23.000000</td>\n",
              "    </tr>\n",
              "    <tr>\n",
              "      <th>75%</th>\n",
              "      <td>2015.000000</td>\n",
              "      <td>1.700155e+05</td>\n",
              "      <td>527.000000</td>\n",
              "      <td>24.000000</td>\n",
              "      <td>0.0</td>\n",
              "      <td>50.75000</td>\n",
              "      <td>24.000000</td>\n",
              "    </tr>\n",
              "    <tr>\n",
              "      <th>max</th>\n",
              "      <td>2020.000000</td>\n",
              "      <td>1.763734e+08</td>\n",
              "      <td>275362.000000</td>\n",
              "      <td>92990.000000</td>\n",
              "      <td>0.0</td>\n",
              "      <td>9190.00000</td>\n",
              "      <td>29.000000</td>\n",
              "    </tr>\n",
              "  </tbody>\n",
              "</table>\n",
              "</div>\n",
              "    <div class=\"colab-df-buttons\">\n",
              "\n",
              "  <div class=\"colab-df-container\">\n",
              "    <button class=\"colab-df-convert\" onclick=\"convertToInteractive('df-6fe2565c-1f02-494b-9cd2-76b269716e8d')\"\n",
              "            title=\"Convert this dataframe to an interactive table.\"\n",
              "            style=\"display:none;\">\n",
              "\n",
              "  <svg xmlns=\"http://www.w3.org/2000/svg\" height=\"24px\" viewBox=\"0 -960 960 960\">\n",
              "    <path d=\"M120-120v-720h720v720H120Zm60-500h600v-160H180v160Zm220 220h160v-160H400v160Zm0 220h160v-160H400v160ZM180-400h160v-160H180v160Zm440 0h160v-160H620v160ZM180-180h160v-160H180v160Zm440 0h160v-160H620v160Z\"/>\n",
              "  </svg>\n",
              "    </button>\n",
              "\n",
              "  <style>\n",
              "    .colab-df-container {\n",
              "      display:flex;\n",
              "      gap: 12px;\n",
              "    }\n",
              "\n",
              "    .colab-df-convert {\n",
              "      background-color: #E8F0FE;\n",
              "      border: none;\n",
              "      border-radius: 50%;\n",
              "      cursor: pointer;\n",
              "      display: none;\n",
              "      fill: #1967D2;\n",
              "      height: 32px;\n",
              "      padding: 0 0 0 0;\n",
              "      width: 32px;\n",
              "    }\n",
              "\n",
              "    .colab-df-convert:hover {\n",
              "      background-color: #E2EBFA;\n",
              "      box-shadow: 0px 1px 2px rgba(60, 64, 67, 0.3), 0px 1px 3px 1px rgba(60, 64, 67, 0.15);\n",
              "      fill: #174EA6;\n",
              "    }\n",
              "\n",
              "    .colab-df-buttons div {\n",
              "      margin-bottom: 4px;\n",
              "    }\n",
              "\n",
              "    [theme=dark] .colab-df-convert {\n",
              "      background-color: #3B4455;\n",
              "      fill: #D2E3FC;\n",
              "    }\n",
              "\n",
              "    [theme=dark] .colab-df-convert:hover {\n",
              "      background-color: #434B5C;\n",
              "      box-shadow: 0px 1px 3px 1px rgba(0, 0, 0, 0.15);\n",
              "      filter: drop-shadow(0px 1px 2px rgba(0, 0, 0, 0.3));\n",
              "      fill: #FFFFFF;\n",
              "    }\n",
              "  </style>\n",
              "\n",
              "    <script>\n",
              "      const buttonEl =\n",
              "        document.querySelector('#df-6fe2565c-1f02-494b-9cd2-76b269716e8d button.colab-df-convert');\n",
              "      buttonEl.style.display =\n",
              "        google.colab.kernel.accessAllowed ? 'block' : 'none';\n",
              "\n",
              "      async function convertToInteractive(key) {\n",
              "        const element = document.querySelector('#df-6fe2565c-1f02-494b-9cd2-76b269716e8d');\n",
              "        const dataTable =\n",
              "          await google.colab.kernel.invokeFunction('convertToInteractive',\n",
              "                                                    [key], {});\n",
              "        if (!dataTable) return;\n",
              "\n",
              "        const docLinkHtml = 'Like what you see? Visit the ' +\n",
              "          '<a target=\"_blank\" href=https://colab.research.google.com/notebooks/data_table.ipynb>data table notebook</a>'\n",
              "          + ' to learn more about interactive tables.';\n",
              "        element.innerHTML = '';\n",
              "        dataTable['output_type'] = 'display_data';\n",
              "        await google.colab.output.renderOutput(dataTable, element);\n",
              "        const docLink = document.createElement('div');\n",
              "        docLink.innerHTML = docLinkHtml;\n",
              "        element.appendChild(docLink);\n",
              "      }\n",
              "    </script>\n",
              "  </div>\n",
              "\n",
              "\n",
              "<div id=\"df-4dae537c-a6ca-4e9d-a9d7-ab5d12e88601\">\n",
              "  <button class=\"colab-df-quickchart\" onclick=\"quickchart('df-4dae537c-a6ca-4e9d-a9d7-ab5d12e88601')\"\n",
              "            title=\"Suggest charts\"\n",
              "            style=\"display:none;\">\n",
              "\n",
              "<svg xmlns=\"http://www.w3.org/2000/svg\" height=\"24px\"viewBox=\"0 0 24 24\"\n",
              "     width=\"24px\">\n",
              "    <g>\n",
              "        <path d=\"M19 3H5c-1.1 0-2 .9-2 2v14c0 1.1.9 2 2 2h14c1.1 0 2-.9 2-2V5c0-1.1-.9-2-2-2zM9 17H7v-7h2v7zm4 0h-2V7h2v10zm4 0h-2v-4h2v4z\"/>\n",
              "    </g>\n",
              "</svg>\n",
              "  </button>\n",
              "\n",
              "<style>\n",
              "  .colab-df-quickchart {\n",
              "      --bg-color: #E8F0FE;\n",
              "      --fill-color: #1967D2;\n",
              "      --hover-bg-color: #E2EBFA;\n",
              "      --hover-fill-color: #174EA6;\n",
              "      --disabled-fill-color: #AAA;\n",
              "      --disabled-bg-color: #DDD;\n",
              "  }\n",
              "\n",
              "  [theme=dark] .colab-df-quickchart {\n",
              "      --bg-color: #3B4455;\n",
              "      --fill-color: #D2E3FC;\n",
              "      --hover-bg-color: #434B5C;\n",
              "      --hover-fill-color: #FFFFFF;\n",
              "      --disabled-bg-color: #3B4455;\n",
              "      --disabled-fill-color: #666;\n",
              "  }\n",
              "\n",
              "  .colab-df-quickchart {\n",
              "    background-color: var(--bg-color);\n",
              "    border: none;\n",
              "    border-radius: 50%;\n",
              "    cursor: pointer;\n",
              "    display: none;\n",
              "    fill: var(--fill-color);\n",
              "    height: 32px;\n",
              "    padding: 0;\n",
              "    width: 32px;\n",
              "  }\n",
              "\n",
              "  .colab-df-quickchart:hover {\n",
              "    background-color: var(--hover-bg-color);\n",
              "    box-shadow: 0 1px 2px rgba(60, 64, 67, 0.3), 0 1px 3px 1px rgba(60, 64, 67, 0.15);\n",
              "    fill: var(--button-hover-fill-color);\n",
              "  }\n",
              "\n",
              "  .colab-df-quickchart-complete:disabled,\n",
              "  .colab-df-quickchart-complete:disabled:hover {\n",
              "    background-color: var(--disabled-bg-color);\n",
              "    fill: var(--disabled-fill-color);\n",
              "    box-shadow: none;\n",
              "  }\n",
              "\n",
              "  .colab-df-spinner {\n",
              "    border: 2px solid var(--fill-color);\n",
              "    border-color: transparent;\n",
              "    border-bottom-color: var(--fill-color);\n",
              "    animation:\n",
              "      spin 1s steps(1) infinite;\n",
              "  }\n",
              "\n",
              "  @keyframes spin {\n",
              "    0% {\n",
              "      border-color: transparent;\n",
              "      border-bottom-color: var(--fill-color);\n",
              "      border-left-color: var(--fill-color);\n",
              "    }\n",
              "    20% {\n",
              "      border-color: transparent;\n",
              "      border-left-color: var(--fill-color);\n",
              "      border-top-color: var(--fill-color);\n",
              "    }\n",
              "    30% {\n",
              "      border-color: transparent;\n",
              "      border-left-color: var(--fill-color);\n",
              "      border-top-color: var(--fill-color);\n",
              "      border-right-color: var(--fill-color);\n",
              "    }\n",
              "    40% {\n",
              "      border-color: transparent;\n",
              "      border-right-color: var(--fill-color);\n",
              "      border-top-color: var(--fill-color);\n",
              "    }\n",
              "    60% {\n",
              "      border-color: transparent;\n",
              "      border-right-color: var(--fill-color);\n",
              "    }\n",
              "    80% {\n",
              "      border-color: transparent;\n",
              "      border-right-color: var(--fill-color);\n",
              "      border-bottom-color: var(--fill-color);\n",
              "    }\n",
              "    90% {\n",
              "      border-color: transparent;\n",
              "      border-bottom-color: var(--fill-color);\n",
              "    }\n",
              "  }\n",
              "</style>\n",
              "\n",
              "  <script>\n",
              "    async function quickchart(key) {\n",
              "      const quickchartButtonEl =\n",
              "        document.querySelector('#' + key + ' button');\n",
              "      quickchartButtonEl.disabled = true;  // To prevent multiple clicks.\n",
              "      quickchartButtonEl.classList.add('colab-df-spinner');\n",
              "      try {\n",
              "        const charts = await google.colab.kernel.invokeFunction(\n",
              "            'suggestCharts', [key], {});\n",
              "      } catch (error) {\n",
              "        console.error('Error during call to suggestCharts:', error);\n",
              "      }\n",
              "      quickchartButtonEl.classList.remove('colab-df-spinner');\n",
              "      quickchartButtonEl.classList.add('colab-df-quickchart-complete');\n",
              "    }\n",
              "    (() => {\n",
              "      let quickchartButtonEl =\n",
              "        document.querySelector('#df-4dae537c-a6ca-4e9d-a9d7-ab5d12e88601 button');\n",
              "      quickchartButtonEl.style.display =\n",
              "        google.colab.kernel.accessAllowed ? 'block' : 'none';\n",
              "    })();\n",
              "  </script>\n",
              "</div>\n",
              "\n",
              "    </div>\n",
              "  </div>\n"
            ]
          },
          "metadata": {},
          "execution_count": 4
        }
      ],
      "source": [
        "df.describe()"
      ]
    },
    {
      "cell_type": "markdown",
      "metadata": {
        "id": "QO7n3kVu2EiF"
      },
      "source": [
        "# Data cleaning"
      ]
    },
    {
      "cell_type": "markdown",
      "metadata": {
        "id": "tahICP4PuVRy"
      },
      "source": [
        "# Getting Null V"
      ]
    },
    {
      "cell_type": "code",
      "execution_count": null,
      "metadata": {
        "colab": {
          "base_uri": "https://localhost:8080/"
        },
        "id": "JJuoJwduWdRG",
        "outputId": "4f15c295-b369-469f-fff1-6a177398d613"
      },
      "outputs": [
        {
          "output_type": "execute_result",
          "data": {
            "text/plain": [
              "year                           0\n",
              "brand                          0\n",
              "superbowl_ads_dot_com_url      0\n",
              "youtube_url                   11\n",
              "funny                          0\n",
              "show_product_quickly           0\n",
              "patriotic                      0\n",
              "celebrity                      0\n",
              "danger                         0\n",
              "animals                        0\n",
              "use_sex                        0\n",
              "id                            11\n",
              "kind                          16\n",
              "etag                          16\n",
              "view_count                    16\n",
              "like_count                    22\n",
              "dislike_count                 22\n",
              "favorite_count                16\n",
              "comment_count                 25\n",
              "published_at                  16\n",
              "title                         16\n",
              "description                   50\n",
              "thumbnail                    129\n",
              "channel_title                 16\n",
              "category_id                   16\n",
              "dtype: int64"
            ]
          },
          "metadata": {},
          "execution_count": 5
        }
      ],
      "source": [
        "df.isnull().sum()"
      ]
    },
    {
      "cell_type": "markdown",
      "metadata": {
        "id": "aAuNFDoQkI4-"
      },
      "source": [
        "- Handling missing values"
      ]
    },
    {
      "cell_type": "code",
      "execution_count": null,
      "metadata": {
        "id": "28EBpV8BisI1"
      },
      "outputs": [],
      "source": [
        "df.dropna(subset = ['view_count'], inplace = True)"
      ]
    },
    {
      "cell_type": "code",
      "execution_count": null,
      "metadata": {
        "id": "7QezWD-4jw0t"
      },
      "outputs": [],
      "source": [
        "df.drop(['description', 'thumbnail'], axis = 1, inplace = True)"
      ]
    },
    {
      "cell_type": "code",
      "execution_count": null,
      "metadata": {
        "colab": {
          "base_uri": "https://localhost:8080/"
        },
        "id": "L7ahJSknlTW9",
        "outputId": "63df54b8-660d-47fb-f3f0-412d1271e740"
      },
      "outputs": [
        {
          "output_type": "execute_result",
          "data": {
            "text/plain": [
              "year                         0\n",
              "brand                        0\n",
              "superbowl_ads_dot_com_url    0\n",
              "youtube_url                  0\n",
              "funny                        0\n",
              "show_product_quickly         0\n",
              "patriotic                    0\n",
              "celebrity                    0\n",
              "danger                       0\n",
              "animals                      0\n",
              "use_sex                      0\n",
              "id                           0\n",
              "kind                         0\n",
              "etag                         0\n",
              "view_count                   0\n",
              "like_count                   6\n",
              "dislike_count                6\n",
              "favorite_count               0\n",
              "comment_count                9\n",
              "published_at                 0\n",
              "title                        0\n",
              "channel_title                0\n",
              "category_id                  0\n",
              "dtype: int64"
            ]
          },
          "metadata": {},
          "execution_count": 8
        }
      ],
      "source": [
        "df.isnull().sum()"
      ]
    },
    {
      "cell_type": "code",
      "execution_count": null,
      "metadata": {
        "id": "JkKk-4tglVpa"
      },
      "outputs": [],
      "source": [
        "df.like_count.fillna(1, inplace = True)\n",
        "df.dislike_count.fillna(1, inplace = True)\n",
        "df.comment_count.fillna(1, inplace = True)"
      ]
    },
    {
      "cell_type": "code",
      "execution_count": null,
      "metadata": {
        "colab": {
          "base_uri": "https://localhost:8080/"
        },
        "id": "m4Un8o5IWV6s",
        "outputId": "6fe94e6c-eeac-4a54-ddff-e2c33294d1ec"
      },
      "outputs": [
        {
          "output_type": "execute_result",
          "data": {
            "text/plain": [
              "year                           int64\n",
              "brand                         object\n",
              "superbowl_ads_dot_com_url     object\n",
              "youtube_url                   object\n",
              "funny                           bool\n",
              "show_product_quickly            bool\n",
              "patriotic                       bool\n",
              "celebrity                       bool\n",
              "danger                          bool\n",
              "animals                         bool\n",
              "use_sex                         bool\n",
              "id                            object\n",
              "kind                          object\n",
              "etag                          object\n",
              "view_count                   float64\n",
              "like_count                   float64\n",
              "dislike_count                float64\n",
              "favorite_count               float64\n",
              "comment_count                float64\n",
              "published_at                  object\n",
              "title                         object\n",
              "channel_title                 object\n",
              "category_id                  float64\n",
              "dtype: object"
            ]
          },
          "metadata": {},
          "execution_count": 10
        }
      ],
      "source": [
        "df.dtypes"
      ]
    },
    {
      "cell_type": "code",
      "execution_count": null,
      "metadata": {
        "id": "PI3-_rTAn7zS"
      },
      "outputs": [],
      "source": [
        "df['dislike_count'] = df['dislike_count'].replace(0, 1)\n",
        "df['like_count'] = df['like_count'].replace(0, 1)"
      ]
    },
    {
      "cell_type": "markdown",
      "metadata": {
        "id": "AWaoQedyu1Pb"
      },
      "source": [
        "Handling boolean valued features."
      ]
    },
    {
      "cell_type": "code",
      "execution_count": null,
      "metadata": {
        "id": "qFszLBKBqwmO"
      },
      "outputs": [],
      "source": [
        "df['funny'] = df['funny'].astype(int)\n",
        "df['show_product_quickly'] = df['show_product_quickly'].astype(int)\n",
        "df['patriotic'] = df['patriotic'].astype(int)\n",
        "df['celebrity'] = df['celebrity'].astype(int)\n",
        "df['danger'] = df['danger'].astype(int)\n",
        "df['animals'] = df['animals'].astype(int)\n",
        "df['use_sex'] = df['use_sex'].astype(int)"
      ]
    },
    {
      "cell_type": "code",
      "execution_count": null,
      "metadata": {
        "colab": {
          "base_uri": "https://localhost:8080/",
          "height": 320
        },
        "id": "oBuEl3Gjs0Ij",
        "outputId": "fad5ca06-07b9-4515-9b2e-baeee142fd41"
      },
      "outputs": [
        {
          "output_type": "execute_result",
          "data": {
            "text/plain": [
              "              year       funny  show_product_quickly   patriotic   celebrity  \\\n",
              "count   231.000000  231.000000            231.000000  231.000000  231.000000   \n",
              "mean   2010.216450    0.688312              0.696970    0.173160    0.298701   \n",
              "std       5.766914    0.464189              0.460566    0.379207    0.458682   \n",
              "min    2000.000000    0.000000              0.000000    0.000000    0.000000   \n",
              "25%    2005.500000    0.000000              0.000000    0.000000    0.000000   \n",
              "50%    2010.000000    1.000000              1.000000    0.000000    0.000000   \n",
              "75%    2015.000000    1.000000              1.000000    0.000000    1.000000   \n",
              "max    2020.000000    1.000000              1.000000    1.000000    1.000000   \n",
              "\n",
              "           danger     animals     use_sex    view_count     like_count  \\\n",
              "count  231.000000  231.000000  231.000000  2.310000e+02     231.000000   \n",
              "mean     0.307359    0.380952    0.259740  1.407556e+06    4038.406926   \n",
              "std      0.462402    0.486675    0.439444  1.197111e+07   23615.574169   \n",
              "min      0.000000    0.000000    0.000000  1.000000e+01       1.000000   \n",
              "25%      0.000000    0.000000    0.000000  6.431000e+03      14.500000   \n",
              "50%      0.000000    0.000000    0.000000  4.137900e+04     120.000000   \n",
              "75%      1.000000    1.000000    1.000000  1.700155e+05     480.500000   \n",
              "max      1.000000    1.000000    1.000000  1.763734e+08  275362.000000   \n",
              "\n",
              "       dislike_count  favorite_count  comment_count  category_id  \n",
              "count     231.000000           231.0     231.000000   231.000000  \n",
              "mean      812.116883             0.0     181.329004    19.316017  \n",
              "std      6858.549918             0.0     967.648474     8.004328  \n",
              "min         1.000000             0.0       0.000000     1.000000  \n",
              "25%         1.000000             0.0       1.000000    17.000000  \n",
              "50%         6.000000             0.0       9.000000    23.000000  \n",
              "75%        24.000000             0.0      45.500000    24.000000  \n",
              "max     92990.000000             0.0    9190.000000    29.000000  "
            ],
            "text/html": [
              "\n",
              "  <div id=\"df-b99ad8ce-b596-4541-9db7-1a031f26b7d1\" class=\"colab-df-container\">\n",
              "    <div>\n",
              "<style scoped>\n",
              "    .dataframe tbody tr th:only-of-type {\n",
              "        vertical-align: middle;\n",
              "    }\n",
              "\n",
              "    .dataframe tbody tr th {\n",
              "        vertical-align: top;\n",
              "    }\n",
              "\n",
              "    .dataframe thead th {\n",
              "        text-align: right;\n",
              "    }\n",
              "</style>\n",
              "<table border=\"1\" class=\"dataframe\">\n",
              "  <thead>\n",
              "    <tr style=\"text-align: right;\">\n",
              "      <th></th>\n",
              "      <th>year</th>\n",
              "      <th>funny</th>\n",
              "      <th>show_product_quickly</th>\n",
              "      <th>patriotic</th>\n",
              "      <th>celebrity</th>\n",
              "      <th>danger</th>\n",
              "      <th>animals</th>\n",
              "      <th>use_sex</th>\n",
              "      <th>view_count</th>\n",
              "      <th>like_count</th>\n",
              "      <th>dislike_count</th>\n",
              "      <th>favorite_count</th>\n",
              "      <th>comment_count</th>\n",
              "      <th>category_id</th>\n",
              "    </tr>\n",
              "  </thead>\n",
              "  <tbody>\n",
              "    <tr>\n",
              "      <th>count</th>\n",
              "      <td>231.000000</td>\n",
              "      <td>231.000000</td>\n",
              "      <td>231.000000</td>\n",
              "      <td>231.000000</td>\n",
              "      <td>231.000000</td>\n",
              "      <td>231.000000</td>\n",
              "      <td>231.000000</td>\n",
              "      <td>231.000000</td>\n",
              "      <td>2.310000e+02</td>\n",
              "      <td>231.000000</td>\n",
              "      <td>231.000000</td>\n",
              "      <td>231.0</td>\n",
              "      <td>231.000000</td>\n",
              "      <td>231.000000</td>\n",
              "    </tr>\n",
              "    <tr>\n",
              "      <th>mean</th>\n",
              "      <td>2010.216450</td>\n",
              "      <td>0.688312</td>\n",
              "      <td>0.696970</td>\n",
              "      <td>0.173160</td>\n",
              "      <td>0.298701</td>\n",
              "      <td>0.307359</td>\n",
              "      <td>0.380952</td>\n",
              "      <td>0.259740</td>\n",
              "      <td>1.407556e+06</td>\n",
              "      <td>4038.406926</td>\n",
              "      <td>812.116883</td>\n",
              "      <td>0.0</td>\n",
              "      <td>181.329004</td>\n",
              "      <td>19.316017</td>\n",
              "    </tr>\n",
              "    <tr>\n",
              "      <th>std</th>\n",
              "      <td>5.766914</td>\n",
              "      <td>0.464189</td>\n",
              "      <td>0.460566</td>\n",
              "      <td>0.379207</td>\n",
              "      <td>0.458682</td>\n",
              "      <td>0.462402</td>\n",
              "      <td>0.486675</td>\n",
              "      <td>0.439444</td>\n",
              "      <td>1.197111e+07</td>\n",
              "      <td>23615.574169</td>\n",
              "      <td>6858.549918</td>\n",
              "      <td>0.0</td>\n",
              "      <td>967.648474</td>\n",
              "      <td>8.004328</td>\n",
              "    </tr>\n",
              "    <tr>\n",
              "      <th>min</th>\n",
              "      <td>2000.000000</td>\n",
              "      <td>0.000000</td>\n",
              "      <td>0.000000</td>\n",
              "      <td>0.000000</td>\n",
              "      <td>0.000000</td>\n",
              "      <td>0.000000</td>\n",
              "      <td>0.000000</td>\n",
              "      <td>0.000000</td>\n",
              "      <td>1.000000e+01</td>\n",
              "      <td>1.000000</td>\n",
              "      <td>1.000000</td>\n",
              "      <td>0.0</td>\n",
              "      <td>0.000000</td>\n",
              "      <td>1.000000</td>\n",
              "    </tr>\n",
              "    <tr>\n",
              "      <th>25%</th>\n",
              "      <td>2005.500000</td>\n",
              "      <td>0.000000</td>\n",
              "      <td>0.000000</td>\n",
              "      <td>0.000000</td>\n",
              "      <td>0.000000</td>\n",
              "      <td>0.000000</td>\n",
              "      <td>0.000000</td>\n",
              "      <td>0.000000</td>\n",
              "      <td>6.431000e+03</td>\n",
              "      <td>14.500000</td>\n",
              "      <td>1.000000</td>\n",
              "      <td>0.0</td>\n",
              "      <td>1.000000</td>\n",
              "      <td>17.000000</td>\n",
              "    </tr>\n",
              "    <tr>\n",
              "      <th>50%</th>\n",
              "      <td>2010.000000</td>\n",
              "      <td>1.000000</td>\n",
              "      <td>1.000000</td>\n",
              "      <td>0.000000</td>\n",
              "      <td>0.000000</td>\n",
              "      <td>0.000000</td>\n",
              "      <td>0.000000</td>\n",
              "      <td>0.000000</td>\n",
              "      <td>4.137900e+04</td>\n",
              "      <td>120.000000</td>\n",
              "      <td>6.000000</td>\n",
              "      <td>0.0</td>\n",
              "      <td>9.000000</td>\n",
              "      <td>23.000000</td>\n",
              "    </tr>\n",
              "    <tr>\n",
              "      <th>75%</th>\n",
              "      <td>2015.000000</td>\n",
              "      <td>1.000000</td>\n",
              "      <td>1.000000</td>\n",
              "      <td>0.000000</td>\n",
              "      <td>1.000000</td>\n",
              "      <td>1.000000</td>\n",
              "      <td>1.000000</td>\n",
              "      <td>1.000000</td>\n",
              "      <td>1.700155e+05</td>\n",
              "      <td>480.500000</td>\n",
              "      <td>24.000000</td>\n",
              "      <td>0.0</td>\n",
              "      <td>45.500000</td>\n",
              "      <td>24.000000</td>\n",
              "    </tr>\n",
              "    <tr>\n",
              "      <th>max</th>\n",
              "      <td>2020.000000</td>\n",
              "      <td>1.000000</td>\n",
              "      <td>1.000000</td>\n",
              "      <td>1.000000</td>\n",
              "      <td>1.000000</td>\n",
              "      <td>1.000000</td>\n",
              "      <td>1.000000</td>\n",
              "      <td>1.000000</td>\n",
              "      <td>1.763734e+08</td>\n",
              "      <td>275362.000000</td>\n",
              "      <td>92990.000000</td>\n",
              "      <td>0.0</td>\n",
              "      <td>9190.000000</td>\n",
              "      <td>29.000000</td>\n",
              "    </tr>\n",
              "  </tbody>\n",
              "</table>\n",
              "</div>\n",
              "    <div class=\"colab-df-buttons\">\n",
              "\n",
              "  <div class=\"colab-df-container\">\n",
              "    <button class=\"colab-df-convert\" onclick=\"convertToInteractive('df-b99ad8ce-b596-4541-9db7-1a031f26b7d1')\"\n",
              "            title=\"Convert this dataframe to an interactive table.\"\n",
              "            style=\"display:none;\">\n",
              "\n",
              "  <svg xmlns=\"http://www.w3.org/2000/svg\" height=\"24px\" viewBox=\"0 -960 960 960\">\n",
              "    <path d=\"M120-120v-720h720v720H120Zm60-500h600v-160H180v160Zm220 220h160v-160H400v160Zm0 220h160v-160H400v160ZM180-400h160v-160H180v160Zm440 0h160v-160H620v160ZM180-180h160v-160H180v160Zm440 0h160v-160H620v160Z\"/>\n",
              "  </svg>\n",
              "    </button>\n",
              "\n",
              "  <style>\n",
              "    .colab-df-container {\n",
              "      display:flex;\n",
              "      gap: 12px;\n",
              "    }\n",
              "\n",
              "    .colab-df-convert {\n",
              "      background-color: #E8F0FE;\n",
              "      border: none;\n",
              "      border-radius: 50%;\n",
              "      cursor: pointer;\n",
              "      display: none;\n",
              "      fill: #1967D2;\n",
              "      height: 32px;\n",
              "      padding: 0 0 0 0;\n",
              "      width: 32px;\n",
              "    }\n",
              "\n",
              "    .colab-df-convert:hover {\n",
              "      background-color: #E2EBFA;\n",
              "      box-shadow: 0px 1px 2px rgba(60, 64, 67, 0.3), 0px 1px 3px 1px rgba(60, 64, 67, 0.15);\n",
              "      fill: #174EA6;\n",
              "    }\n",
              "\n",
              "    .colab-df-buttons div {\n",
              "      margin-bottom: 4px;\n",
              "    }\n",
              "\n",
              "    [theme=dark] .colab-df-convert {\n",
              "      background-color: #3B4455;\n",
              "      fill: #D2E3FC;\n",
              "    }\n",
              "\n",
              "    [theme=dark] .colab-df-convert:hover {\n",
              "      background-color: #434B5C;\n",
              "      box-shadow: 0px 1px 3px 1px rgba(0, 0, 0, 0.15);\n",
              "      filter: drop-shadow(0px 1px 2px rgba(0, 0, 0, 0.3));\n",
              "      fill: #FFFFFF;\n",
              "    }\n",
              "  </style>\n",
              "\n",
              "    <script>\n",
              "      const buttonEl =\n",
              "        document.querySelector('#df-b99ad8ce-b596-4541-9db7-1a031f26b7d1 button.colab-df-convert');\n",
              "      buttonEl.style.display =\n",
              "        google.colab.kernel.accessAllowed ? 'block' : 'none';\n",
              "\n",
              "      async function convertToInteractive(key) {\n",
              "        const element = document.querySelector('#df-b99ad8ce-b596-4541-9db7-1a031f26b7d1');\n",
              "        const dataTable =\n",
              "          await google.colab.kernel.invokeFunction('convertToInteractive',\n",
              "                                                    [key], {});\n",
              "        if (!dataTable) return;\n",
              "\n",
              "        const docLinkHtml = 'Like what you see? Visit the ' +\n",
              "          '<a target=\"_blank\" href=https://colab.research.google.com/notebooks/data_table.ipynb>data table notebook</a>'\n",
              "          + ' to learn more about interactive tables.';\n",
              "        element.innerHTML = '';\n",
              "        dataTable['output_type'] = 'display_data';\n",
              "        await google.colab.output.renderOutput(dataTable, element);\n",
              "        const docLink = document.createElement('div');\n",
              "        docLink.innerHTML = docLinkHtml;\n",
              "        element.appendChild(docLink);\n",
              "      }\n",
              "    </script>\n",
              "  </div>\n",
              "\n",
              "\n",
              "<div id=\"df-96ce4685-657f-4c70-8a85-026d692d7e89\">\n",
              "  <button class=\"colab-df-quickchart\" onclick=\"quickchart('df-96ce4685-657f-4c70-8a85-026d692d7e89')\"\n",
              "            title=\"Suggest charts\"\n",
              "            style=\"display:none;\">\n",
              "\n",
              "<svg xmlns=\"http://www.w3.org/2000/svg\" height=\"24px\"viewBox=\"0 0 24 24\"\n",
              "     width=\"24px\">\n",
              "    <g>\n",
              "        <path d=\"M19 3H5c-1.1 0-2 .9-2 2v14c0 1.1.9 2 2 2h14c1.1 0 2-.9 2-2V5c0-1.1-.9-2-2-2zM9 17H7v-7h2v7zm4 0h-2V7h2v10zm4 0h-2v-4h2v4z\"/>\n",
              "    </g>\n",
              "</svg>\n",
              "  </button>\n",
              "\n",
              "<style>\n",
              "  .colab-df-quickchart {\n",
              "      --bg-color: #E8F0FE;\n",
              "      --fill-color: #1967D2;\n",
              "      --hover-bg-color: #E2EBFA;\n",
              "      --hover-fill-color: #174EA6;\n",
              "      --disabled-fill-color: #AAA;\n",
              "      --disabled-bg-color: #DDD;\n",
              "  }\n",
              "\n",
              "  [theme=dark] .colab-df-quickchart {\n",
              "      --bg-color: #3B4455;\n",
              "      --fill-color: #D2E3FC;\n",
              "      --hover-bg-color: #434B5C;\n",
              "      --hover-fill-color: #FFFFFF;\n",
              "      --disabled-bg-color: #3B4455;\n",
              "      --disabled-fill-color: #666;\n",
              "  }\n",
              "\n",
              "  .colab-df-quickchart {\n",
              "    background-color: var(--bg-color);\n",
              "    border: none;\n",
              "    border-radius: 50%;\n",
              "    cursor: pointer;\n",
              "    display: none;\n",
              "    fill: var(--fill-color);\n",
              "    height: 32px;\n",
              "    padding: 0;\n",
              "    width: 32px;\n",
              "  }\n",
              "\n",
              "  .colab-df-quickchart:hover {\n",
              "    background-color: var(--hover-bg-color);\n",
              "    box-shadow: 0 1px 2px rgba(60, 64, 67, 0.3), 0 1px 3px 1px rgba(60, 64, 67, 0.15);\n",
              "    fill: var(--button-hover-fill-color);\n",
              "  }\n",
              "\n",
              "  .colab-df-quickchart-complete:disabled,\n",
              "  .colab-df-quickchart-complete:disabled:hover {\n",
              "    background-color: var(--disabled-bg-color);\n",
              "    fill: var(--disabled-fill-color);\n",
              "    box-shadow: none;\n",
              "  }\n",
              "\n",
              "  .colab-df-spinner {\n",
              "    border: 2px solid var(--fill-color);\n",
              "    border-color: transparent;\n",
              "    border-bottom-color: var(--fill-color);\n",
              "    animation:\n",
              "      spin 1s steps(1) infinite;\n",
              "  }\n",
              "\n",
              "  @keyframes spin {\n",
              "    0% {\n",
              "      border-color: transparent;\n",
              "      border-bottom-color: var(--fill-color);\n",
              "      border-left-color: var(--fill-color);\n",
              "    }\n",
              "    20% {\n",
              "      border-color: transparent;\n",
              "      border-left-color: var(--fill-color);\n",
              "      border-top-color: var(--fill-color);\n",
              "    }\n",
              "    30% {\n",
              "      border-color: transparent;\n",
              "      border-left-color: var(--fill-color);\n",
              "      border-top-color: var(--fill-color);\n",
              "      border-right-color: var(--fill-color);\n",
              "    }\n",
              "    40% {\n",
              "      border-color: transparent;\n",
              "      border-right-color: var(--fill-color);\n",
              "      border-top-color: var(--fill-color);\n",
              "    }\n",
              "    60% {\n",
              "      border-color: transparent;\n",
              "      border-right-color: var(--fill-color);\n",
              "    }\n",
              "    80% {\n",
              "      border-color: transparent;\n",
              "      border-right-color: var(--fill-color);\n",
              "      border-bottom-color: var(--fill-color);\n",
              "    }\n",
              "    90% {\n",
              "      border-color: transparent;\n",
              "      border-bottom-color: var(--fill-color);\n",
              "    }\n",
              "  }\n",
              "</style>\n",
              "\n",
              "  <script>\n",
              "    async function quickchart(key) {\n",
              "      const quickchartButtonEl =\n",
              "        document.querySelector('#' + key + ' button');\n",
              "      quickchartButtonEl.disabled = true;  // To prevent multiple clicks.\n",
              "      quickchartButtonEl.classList.add('colab-df-spinner');\n",
              "      try {\n",
              "        const charts = await google.colab.kernel.invokeFunction(\n",
              "            'suggestCharts', [key], {});\n",
              "      } catch (error) {\n",
              "        console.error('Error during call to suggestCharts:', error);\n",
              "      }\n",
              "      quickchartButtonEl.classList.remove('colab-df-spinner');\n",
              "      quickchartButtonEl.classList.add('colab-df-quickchart-complete');\n",
              "    }\n",
              "    (() => {\n",
              "      let quickchartButtonEl =\n",
              "        document.querySelector('#df-96ce4685-657f-4c70-8a85-026d692d7e89 button');\n",
              "      quickchartButtonEl.style.display =\n",
              "        google.colab.kernel.accessAllowed ? 'block' : 'none';\n",
              "    })();\n",
              "  </script>\n",
              "</div>\n",
              "\n",
              "    </div>\n",
              "  </div>\n"
            ]
          },
          "metadata": {},
          "execution_count": 13
        }
      ],
      "source": [
        "df.describe()"
      ]
    },
    {
      "cell_type": "markdown",
      "metadata": {
        "id": "JCElLw7tvDJm"
      },
      "source": [
        "Dropping unwanted columns (features) from the dataset."
      ]
    },
    {
      "cell_type": "code",
      "execution_count": null,
      "metadata": {
        "id": "hKwY6Fx4qL9-"
      },
      "outputs": [],
      "source": [
        "df.drop(['id', 'title', 'kind', 'channel_title','category_id', 'etag',\n",
        "         'superbowl_ads_dot_com_url', 'youtube_url', 'favorite_count'],\n",
        "         axis = 1, inplace = True)"
      ]
    },
    {
      "cell_type": "code",
      "execution_count": null,
      "metadata": {
        "colab": {
          "base_uri": "https://localhost:8080/"
        },
        "id": "WjdgrVgit6iX",
        "outputId": "dadbcdee-0587-4466-9a78-9127495d3dce"
      },
      "outputs": [
        {
          "output_type": "execute_result",
          "data": {
            "text/plain": [
              "Index(['year', 'brand', 'funny', 'show_product_quickly', 'patriotic',\n",
              "       'celebrity', 'danger', 'animals', 'use_sex', 'view_count', 'like_count',\n",
              "       'dislike_count', 'comment_count', 'published_at'],\n",
              "      dtype='object')"
            ]
          },
          "metadata": {},
          "execution_count": 15
        }
      ],
      "source": [
        "df.columns"
      ]
    },
    {
      "cell_type": "markdown",
      "metadata": {
        "id": "xpqeXoAj18in"
      },
      "source": [
        "## ERD"
      ]
    },
    {
      "cell_type": "code",
      "execution_count": null,
      "metadata": {
        "colab": {
          "base_uri": "https://localhost:8080/"
        },
        "id": "sgLdbIbcuBOf",
        "outputId": "c091bd92-e97a-4ce1-f98a-81f140cb5e13"
      },
      "outputs": [
        {
          "output_type": "execute_result",
          "data": {
            "text/plain": [
              "array(['Toyota', 'Bud Light', 'Hynudai', 'Coca-Cola', 'Kia', 'Budweiser',\n",
              "       'NFL', 'Pepsi', 'Doritos', 'E-Trade'], dtype=object)"
            ]
          },
          "metadata": {},
          "execution_count": 16
        }
      ],
      "source": [
        "df.brand.unique()"
      ]
    },
    {
      "cell_type": "code",
      "execution_count": null,
      "metadata": {
        "id": "I_MWP4eHvTve"
      },
      "outputs": [],
      "source": [
        "df_with_cat = df"
      ]
    },
    {
      "cell_type": "code",
      "execution_count": null,
      "metadata": {
        "id": "hQerTPMbveuy"
      },
      "outputs": [],
      "source": [
        "categories = {'Automobile' : ['Hynudai', 'Toyota', 'Kia'],\n",
        "              'Beverages/Snacks': ['Bud Light', 'Coca-Cola', 'Budweiser',\n",
        "               'Pepsi', 'Doritos'], 'Other': ['NFL', 'E-Trade']}"
      ]
    },
    {
      "cell_type": "code",
      "execution_count": null,
      "metadata": {
        "id": "O1BR9KJ3ww-n"
      },
      "outputs": [],
      "source": [
        "df_with_cat['category'] = df_with_cat['brand'].map({brand: category for category,\n",
        "                                                    brands in categories.items() for brand in brands})\n"
      ]
    },
    {
      "cell_type": "code",
      "execution_count": null,
      "metadata": {
        "id": "kbSSeV-eyVGG"
      },
      "outputs": [],
      "source": [
        "c1 = len(df_with_cat[(df_with_cat['category'] == 'Automobile')])\n",
        "c2 = len(df_with_cat[(df_with_cat['category'] == 'Beverages/Snacks')])\n",
        "c3 = len(df_with_cat[(df_with_cat['category'] == 'Other')])\n",
        "count_cats = [c1, c2, c3]\n",
        "cats = ['Automobile', 'Beverages/Snacks', 'Other']\n"
      ]
    },
    {
      "cell_type": "code",
      "execution_count": null,
      "metadata": {
        "colab": {
          "base_uri": "https://localhost:8080/",
          "height": 675
        },
        "id": "RGRN9Ke7y-gq",
        "outputId": "09662031-827e-40a6-82c7-d861fc12f284"
      },
      "outputs": [
        {
          "output_type": "display_data",
          "data": {
            "text/plain": [
              "<Figure size 800x800 with 1 Axes>"
            ],
            "image/png": "[encoded data removed]"
          },
          "metadata": {}
        }
      ],
      "source": [
        "plt.figure(figsize=(8, 8))\n",
        "plt.pie(count_cats, labels=cats, autopct='%1.1f%%', startangle=90, colors=['skyblue', 'lightgreen', 'lightpink'])\n",
        "plt.title('Distribution of Categories of Super Bowl Advertisers');"
      ]
    },
    {
      "cell_type": "code",
      "execution_count": null,
      "metadata": {
        "colab": {
          "base_uri": "https://localhost:8080/",
          "height": 442
        },
        "id": "y_mq4ZVi1NNJ",
        "outputId": "7e222741-0149-4693-91a6-b1f975374ad4"
      },
      "outputs": [
        {
          "output_type": "display_data",
          "data": {
            "text/plain": [
              "<Figure size 1400x400 with 7 Axes>"
            ],
            "image/png": "[encoded data removed]"
          },
          "metadata": {}
        }
      ],
      "source": [
        "boolean_columns = ['funny', 'show_product_quickly', 'patriotic', 'celebrity', 'danger', 'animals', 'use_sex']\n",
        "fig, axes = plt.subplots(nrows=1, ncols=len(boolean_columns), figsize=(14, 4))\n",
        "\n",
        "for i, col in enumerate(boolean_columns):\n",
        "    sns.countplot(data=df, x=col, ax=axes[i])\n",
        "    axes[i].set_xlabel(f'{col}')\n",
        "    axes[i].set_ylabel('Count')\n",
        "    axes[i].set_ylim(0, 200)\n",
        "\n",
        "plt.tight_layout()\n",
        "plt.suptitle('Distributions of Boolean Columns', fontsize= 15, y=1.05)\n",
        "plt.show()"
      ]
    },
    {
      "cell_type": "code",
      "source": [
        "Data_ = df"
      ],
      "metadata": {
        "id": "jtxCLH2aLxxB"
      },
      "execution_count": null,
      "outputs": []
    },
    {
      "cell_type": "code",
      "execution_count": null,
      "metadata": {
        "id": "7VdZPcJ6sEdL"
      },
      "outputs": [],
      "source": [
        "Data_ = Data_.drop(['brand', 'view_count',\n",
        "       'like_count', 'dislike_count', 'comment_count', 'published_at',\n",
        "       ],axis=1)"
      ]
    },
    {
      "cell_type": "code",
      "execution_count": null,
      "metadata": {
        "colab": {
          "base_uri": "https://localhost:8080/",
          "height": 647
        },
        "id": "HPOyAl0jrcjM",
        "outputId": "5f5f55cd-8ae3-4f5c-c9c5-fb7d55932937"
      },
      "outputs": [
        {
          "output_type": "stream",
          "name": "stderr",
          "text": [
            "<ipython-input-25-551735ea4f6e>:6: FutureWarning: The default value of numeric_only in DataFrameGroupBy.sum is deprecated. In a future version, numeric_only will default to False. Either specify numeric_only or select only columns which should be valid for the function.\n",
            "  grouped = Data_.groupby('year').sum()\n"
          ]
        },
        {
          "output_type": "display_data",
          "data": {
            "text/plain": [
              "<Figure size 1000x600 with 1 Axes>"
            ],
            "image/png": "[encoded data removed]"
          },
          "metadata": {}
        }
      ],
      "source": [
        "import pandas as pd\n",
        "import matplotlib.pyplot as plt\n",
        "\n",
        "\n",
        "# Group the DataFrame by 'year' and sum the values in each binary column\n",
        "grouped = Data_.groupby('year').sum()\n",
        "\n",
        "# Create a bar plot\n",
        "grouped.plot(kind='bar', stacked=True, figsize=(10, 6))\n",
        "\n",
        "plt.title('Proportion of Binary Features over Years', fontsize=16)\n",
        "plt.xlabel('Year', fontsize=14)\n",
        "plt.ylabel('Number of Advertisements', fontsize=14)\n",
        "plt.legend(title='Features', bbox_to_anchor=(1.05, 1), loc='upper left')\n",
        "\n",
        "plt.show()"
      ]
    },
    {
      "cell_type": "markdown",
      "metadata": {
        "id": "o1ra8C3hiHRO"
      },
      "source": [
        "## Target Creation"
      ]
    },
    {
      "cell_type": "markdown",
      "metadata": {
        "id": "P0fHTQTyinx8"
      },
      "source": [
        "To define \"popularity\", we will create a metric that is defined as: view count * (like count / dislike count). We will convert this metric into a categorical variable, with 1 corresponding to \"popular\" and 0 corresonding to \"unpopular\". These binary values will be created by defining \"popular\" videos as those that have a popularity metric in the 75th percentile or above."
      ]
    },
    {
      "cell_type": "code",
      "execution_count": null,
      "metadata": {
        "id": "B4fOcDidj1nk"
      },
      "outputs": [],
      "source": [
        "# Create popularity column\n",
        "df['popular'] = np.log(df['view_count'] * (df['like_count'] / df['dislike_count']))\n",
        "#df['popular'] = (df['view_count'] * (df['like_count'] / df['dislike_count']))"
      ]
    },
    {
      "cell_type": "code",
      "source": [
        "# Plot of popularity\n",
        "sns.displot(df['popular'])\n",
        "#plt.axvline(np.percentile(df['popular'], 80), color='red', linestyle='dashed', linewidth=2, label='75th Percentile')  # line for 75th perc.\n",
        "plt.title(\"Distribution of Popularity Metric\")\n",
        "plt.xlabel(\"Popularity (log transformed)\")\n",
        "plt.ylabel(\"Count\")\n",
        "plt.legend()\n",
        "plt.show()"
      ],
      "metadata": {
        "colab": {
          "base_uri": "https://localhost:8080/",
          "height": 546
        },
        "id": "CB-TU42zxKRq",
        "outputId": "003322c7-0dd3-44ae-8210-f9c2ae668d6b"
      },
      "execution_count": null,
      "outputs": [
        {
          "output_type": "stream",
          "name": "stderr",
          "text": [
            "WARNING:matplotlib.legend:No artists with labels found to put in legend.  Note that artists whose label start with an underscore are ignored when legend() is called with no argument.\n"
          ]
        },
        {
          "output_type": "display_data",
          "data": {
            "text/plain": [
              "<Figure size 500x500 with 1 Axes>"
            ],
            "image/png": "[encoded data removed]"
          },
          "metadata": {}
        }
      ]
    },
    {
      "cell_type": "code",
      "source": [
        "# Plot of popularity\n",
        "sns.displot(df['popular'])\n",
        "plt.axvline(np.percentile(df['popular'], 80), color='red', linestyle='dashed', linewidth=2, label='80th Percentile')  # line for 75th perc.\n",
        "plt.title(\"Distribution of Popularity Metric\")\n",
        "plt.xlabel(\"Popularity (log transformed)\")\n",
        "plt.ylabel(\"Count\")\n",
        "plt.legend()\n",
        "plt.show()"
      ],
      "metadata": {
        "colab": {
          "base_uri": "https://localhost:8080/",
          "height": 529
        },
        "id": "eZfU2YM65gBR",
        "outputId": "e1f57d8d-dffe-482f-e4ca-dd1028eae13b"
      },
      "execution_count": null,
      "outputs": [
        {
          "output_type": "display_data",
          "data": {
            "text/plain": [
              "<Figure size 500x500 with 1 Axes>"
            ],
            "image/png": "[encoded data removed]"
          },
          "metadata": {}
        }
      ]
    },
    {
      "cell_type": "code",
      "source": [
        "# Get threshold for 75% of values\n",
        "pop_threshold = np.percentile(df['popular'], 80)\n",
        "# Convert popular column into binary based over/under 80th percentile threshold\n",
        "df['popular'] = (df['popular'] > pop_threshold).astype(int)"
      ],
      "metadata": {
        "id": "Hgt_XOHy5i0y"
      },
      "execution_count": null,
      "outputs": []
    },
    {
      "cell_type": "code",
      "execution_count": null,
      "metadata": {
        "id": "OEla4eaPweMC"
      },
      "outputs": [],
      "source": [
        "from sklearn.model_selection import train_test_split\n",
        "\n",
        "# Define X and y\n",
        "y = df['popular']\n",
        "X = df[['funny', 'show_product_quickly', 'patriotic', 'celebrity', 'danger', 'animals', 'use_sex']]\n",
        "\n",
        "# Split into testing and training data\n",
        "X_train, X_test, y_train, y_test = train_test_split(X, y,stratify=y , test_size=0.2, random_state=42)"
      ]
    },
    {
      "cell_type": "code",
      "execution_count": null,
      "metadata": {
        "id": "L24pYp75tJmj"
      },
      "outputs": [],
      "source": [
        "from sklearn.utils import resample\n",
        "\n",
        "train_data = pd.concat([pd.DataFrame(X_train), pd.Series(y_train)], axis=1)\n",
        "\n",
        "# Separate majority and minority classes\n",
        "majority_class = train_data[train_data[y_train.name] == 0]\n",
        "minority_class = train_data[train_data[y_train.name] == 1]\n",
        "\n",
        "# Downsample the majority class\n",
        "downsampled_majority = resample(majority_class, replace=False, n_samples=len(minority_class), random_state=42)\n",
        "\n",
        "# Combine the downsampled majority class with the minority class\n",
        "downsampled_train_data = pd.concat([downsampled_majority, minority_class])\n",
        "\n",
        "# Split the downsampled data into X_train and y_train\n",
        "X_train_downsampled = downsampled_train_data.drop(columns=[y_train.name])\n",
        "y_train_downsampled = downsampled_train_data[y_train.name]"
      ]
    },
    {
      "cell_type": "markdown",
      "metadata": {
        "id": "uY-0-RLcvRoM"
      },
      "source": [
        "## Modeling"
      ]
    },
    {
      "cell_type": "markdown",
      "metadata": {
        "id": "IdlS7oS0zxPR"
      },
      "source": [
        "#### Logistic Regression"
      ]
    },
    {
      "cell_type": "code",
      "execution_count": null,
      "metadata": {
        "id": "YvHh7ez6FMfb"
      },
      "outputs": [],
      "source": [
        "from sklearn.linear_model import LogisticRegression\n",
        "\n",
        "# Create and fit model\n",
        "lr = LogisticRegression()\n",
        "lr.fit(X_train_downsampled, y_train_downsampled)\n",
        "# Get predictions\n",
        "lr_pred = lr.predict(X_test)"
      ]
    },
    {
      "cell_type": "code",
      "execution_count": null,
      "metadata": {
        "colab": {
          "base_uri": "https://localhost:8080/"
        },
        "id": "gqAjtIlXGstu",
        "outputId": "fdbe36e3-96b8-4514-bbd0-eaf98ce1a568"
      },
      "outputs": [
        {
          "output_type": "stream",
          "name": "stdout",
          "text": [
            "Classification Report (Logistic Regression):\n",
            "               precision    recall  f1-score   support\n",
            "\n",
            " Not Popular       0.80      0.42      0.55        38\n",
            "     Popular       0.19      0.56      0.28         9\n",
            "\n",
            "    accuracy                           0.45        47\n",
            "   macro avg       0.49      0.49      0.41        47\n",
            "weighted avg       0.68      0.45      0.50        47\n",
            "\n"
          ]
        }
      ],
      "source": [
        "from sklearn.metrics import classification_report\n",
        "\n",
        "# Get and print classification report\n",
        "lr_report = classification_report(y_test, lr_pred, target_names=['Not Popular', 'Popular'])\n",
        "print(\"Classification Report (Logistic Regression):\\n\", lr_report)"
      ]
    },
    {
      "cell_type": "code",
      "execution_count": null,
      "metadata": {
        "colab": {
          "base_uri": "https://localhost:8080/"
        },
        "id": "b_241F74F9Fh",
        "outputId": "43c2d44c-9620-4aa9-9cb6-6d1b805523b3"
      },
      "outputs": [
        {
          "output_type": "stream",
          "name": "stdout",
          "text": [
            "Feature Importance:\n",
            "funny: -0.399\n",
            "show_product_quickly: 0.874\n",
            "patriotic: 0.29\n",
            "celebrity: 0.251\n",
            "danger: 0.277\n",
            "animals: -0.0737\n",
            "use_sex: -0.703\n"
          ]
        }
      ],
      "source": [
        "# Get and print feature importance (coefficients)\n",
        "feature_importance = lr.coef_[0]\n",
        "print(\"Feature Importance:\")\n",
        "for feat, imp in zip(X.columns, feature_importance):\n",
        "    print(f\"{feat}: {imp:.3}\")"
      ]
    },
    {
      "cell_type": "markdown",
      "metadata": {
        "id": "CpCvbngqHS4y"
      },
      "source": [
        "#### Random Forest"
      ]
    },
    {
      "cell_type": "code",
      "execution_count": null,
      "metadata": {
        "id": "mKvfAmtAHgUi"
      },
      "outputs": [],
      "source": [
        "from sklearn.ensemble import RandomForestClassifier"
      ]
    },
    {
      "cell_type": "code",
      "execution_count": null,
      "metadata": {
        "colab": {
          "base_uri": "https://localhost:8080/"
        },
        "id": "nPV6Xh-xugb8",
        "outputId": "45dab62a-c20e-471a-e5ff-d3c86dc6e4dc"
      },
      "outputs": [
        {
          "output_type": "stream",
          "name": "stdout",
          "text": [
            "Classification Report (Random Forest):\n",
            "               precision    recall  f1-score   support\n",
            "\n",
            " Not Popular       0.80      0.53      0.63        38\n",
            "     Popular       0.18      0.44      0.26         9\n",
            "\n",
            "    accuracy                           0.51        47\n",
            "   macro avg       0.49      0.49      0.45        47\n",
            "weighted avg       0.68      0.51      0.56        47\n",
            "\n"
          ]
        }
      ],
      "source": [
        "# Create and fit model\n",
        "rf = RandomForestClassifier(random_state = 5220, n_estimators = 100)\n",
        "rf.fit(X_train_downsampled, y_train_downsampled)\n",
        "# Get predictions\n",
        "rf_pred = rf.predict(X_test)\n",
        "report_rf = classification_report(y_test, rf_pred, target_names=['Not Popular', 'Popular'])\n",
        "print(\"Classification Report (Random Forest):\\n\", report_rf)"
      ]
    },
    {
      "cell_type": "code",
      "execution_count": null,
      "metadata": {
        "colab": {
          "base_uri": "https://localhost:8080/",
          "height": 472
        },
        "id": "LrVAcFyPvx-r",
        "outputId": "9ccc6bdc-7099-4f45-9b49-47304011d2d5"
      },
      "outputs": [
        {
          "output_type": "display_data",
          "data": {
            "text/plain": [
              "<Figure size 640x480 with 1 Axes>"
            ],
            "image/png": "[encoded data removed]"
          },
          "metadata": {}
        }
      ],
      "source": [
        "importances = rf.feature_importances_\n",
        "indices = np.argsort(importances)\n",
        "\n",
        "plt.title(\"Feature Importance: Random Forest\")\n",
        "plt.barh(range(len(importances)), importances[indices], align = 'center')\n",
        "plt.yticks(range(len(importances)), [X.columns[i] for i in indices])\n",
        "plt.ylabel('Feature')\n",
        "plt.xlabel('Importance');"
      ]
    },
    {
      "cell_type": "code",
      "execution_count": null,
      "metadata": {
        "colab": {
          "base_uri": "https://localhost:8080/"
        },
        "id": "kt5zcxESvEcN",
        "outputId": "9449fca5-4cc5-458f-ec0f-0548ccbdcf17"
      },
      "outputs": [
        {
          "output_type": "stream",
          "name": "stdout",
          "text": [
            "{'max_depth': None, 'max_features': 'sqrt', 'min_samples_leaf': 3, 'n_estimators': 100}\n"
          ]
        }
      ],
      "source": [
        "from sklearn.model_selection import GridSearchCV\n",
        "\n",
        "X_train1, X_val, y_train1, y_val = train_test_split(X_train_downsampled, y_train_downsampled, test_size = 0.4, random_state = 43)\n",
        "\n",
        "rf = RandomForestClassifier(random_state = 4400)\n",
        "\n",
        "param_grid = {\n",
        "    'n_estimators': [50, 100, 200, 300],\n",
        "    'max_depth': [None, 5, 10],\n",
        "    'min_samples_leaf': [1,3,5,7],\n",
        "    'max_features': ['sqrt', 'log2']\n",
        "}\n",
        "\n",
        "grid_search = GridSearchCV(estimator = rf, param_grid = param_grid, cv = 5)\n",
        "\n",
        "grid_search.fit(X_val, y_val)\n",
        "# Get the best estimator and its parameters\n",
        "best_params = grid_search.best_params_\n",
        "print(best_params)"
      ]
    },
    {
      "cell_type": "code",
      "execution_count": null,
      "metadata": {
        "colab": {
          "base_uri": "https://localhost:8080/"
        },
        "id": "ZE-ecIgExLYD",
        "outputId": "e69f4717-42e6-4097-99b2-07afc3bff255"
      },
      "outputs": [
        {
          "output_type": "stream",
          "name": "stdout",
          "text": [
            "Classification Report (Random Forest after Hyperparameter tuning):\n",
            "               precision    recall  f1-score   support\n",
            "\n",
            " Not Popular       0.80      0.74      0.77        38\n",
            "     Popular       0.17      0.22      0.19         9\n",
            "\n",
            "    accuracy                           0.64        47\n",
            "   macro avg       0.48      0.48      0.48        47\n",
            "weighted avg       0.68      0.64      0.66        47\n",
            "\n"
          ]
        }
      ],
      "source": [
        "best_rf = RandomForestClassifier(**best_params)\n",
        "best_rf.fit(X_train1, y_train1)\n",
        "\n",
        "best_rf_pred = best_rf.predict(X_test)\n",
        "\n",
        "report_best_rf = classification_report(y_test, best_rf_pred, target_names=['Not Popular', 'Popular'])\n",
        "print(\"Classification Report (Random Forest after Hyperparameter tuning):\\n\", report_best_rf)"
      ]
    },
    {
      "cell_type": "code",
      "source": [
        "importances = best_rf.feature_importances_\n",
        "indices = np.argsort(importances)\n",
        "\n",
        "plt.title(\"Feature Importance: Random Forest (Modified)\")\n",
        "plt.barh(range(len(importances)), importances[indices], align = 'center')\n",
        "plt.yticks(range(len(importances)), [X.columns[i] for i in indices])\n",
        "plt.ylabel('Feature')\n",
        "plt.xlabel('Importance');"
      ],
      "metadata": {
        "colab": {
          "base_uri": "https://localhost:8080/",
          "height": 472
        },
        "id": "jYLnDkz-EcZP",
        "outputId": "98ed096a-c8fe-4065-a7b8-2b7e59ea9514"
      },
      "execution_count": null,
      "outputs": [
        {
          "output_type": "display_data",
          "data": {
            "text/plain": [
              "<Figure size 640x480 with 1 Axes>"
            ],
            "image/png": "[encoded data removed]"
          },
          "metadata": {}
        }
      ]
    },
    {
      "cell_type": "code",
      "execution_count": null,
      "metadata": {
        "id": "CFMXJHQA5sW_"
      },
      "outputs": [],
      "source": [
        "from sklearn.metrics import precision_recall_fscore_support\n",
        "precision_lr, recall_lr, f1_score_lr, support_lr = precision_recall_fscore_support(y_test, lr_pred,  average='weighted')\n",
        "precision_rf, recall_rf, f1_score_rf, support_rf = precision_recall_fscore_support(y_test, rf_pred,  average='weighted')\n",
        "precision_best_rf, recall_best_rf, f1_score_best_rf, support_best_rf = precision_recall_fscore_support(y_test, best_rf_pred,  average='weighted')\n",
        "\n",
        "prcision80 = [precision_lr,precision_rf,precision_best_rf]\n",
        "recall80 = [recall_lr, recall_rf, recall_best_rf]\n",
        "f1_score80 = [f1_score_lr, f1_score_rf, f1_score_best_rf]\n",
        "support80 = [support_lr, support_rf, f1_score_best_rf]"
      ]
    },
    {
      "cell_type": "code",
      "source": [
        "from sklearn.metrics import accuracy_score\n",
        "\n",
        "# Get accuracy scores for all three modes\n",
        "lr_accuracy = accuracy_score(y_test, lr_pred)\n",
        "rf_accuracy = accuracy_score(y_test, rf_pred)\n",
        "best_rf_accuracy = accuracy_score(y_test, best_rf_pred)"
      ],
      "metadata": {
        "id": "KRX_OPmzGlfX"
      },
      "execution_count": null,
      "outputs": []
    },
    {
      "cell_type": "code",
      "execution_count": null,
      "metadata": {
        "colab": {
          "base_uri": "https://localhost:8080/",
          "height": 607
        },
        "id": "mA3CuttF5JD0",
        "outputId": "c445911b-7604-400e-c031-d98191519150"
      },
      "outputs": [
        {
          "output_type": "display_data",
          "data": {
            "text/plain": [
              "<Figure size 1000x600 with 1 Axes>"
            ],
            "image/png": "[encoded data removed]"
          },
          "metadata": {}
        }
      ],
      "source": [
        "import matplotlib.pyplot as plt\n",
        "\n",
        "models = ['Logistic Regression', 'Random Forest', 'Random Forest Modified']\n",
        "\n",
        "# Accuracy-Scores (from above cell)\n",
        "accuracy_scores_75 = [lr_accuracy, rf_accuracy, best_rf_accuracy]\n",
        "\n",
        "# X-axis ticks\n",
        "threshold_ticks = range(1, len(models) + 1)\n",
        "\n",
        "# Plotting\n",
        "plt.figure(figsize=(10, 6))\n",
        "plt.plot(threshold_ticks, accuracy_scores_75, label='Accuracy-Score', marker='o', linestyle='-', color='blue', linewidth=2, zorder=1)\n",
        "\n",
        "# Highlight the best Accuracy-Score\n",
        "best_model_index = accuracy_scores_75.index(max(accuracy_scores_75))\n",
        "plt.scatter(best_model_index + 1, max(accuracy_scores_75), color='red', marker='*', s=100, label='Best Accuracy-Score', zorder=2)\n",
        "\n",
        "# Title and labels\n",
        "plt.title('Accuracy-Score for Different Models', fontsize=16)\n",
        "plt.xlabel('Models', fontsize=14)\n",
        "plt.ylabel('Accuracy-Score', fontsize=14)\n",
        "\n",
        "# X-axis ticks and labels\n",
        "plt.xticks(threshold_ticks, models, ha='center', fontsize=12)\n",
        "\n",
        "# Y-axis ticks and labels\n",
        "plt.yticks(fontsize=12)\n",
        "\n",
        "# Legend\n",
        "plt.legend(fontsize=12)\n",
        "\n",
        "# Grid\n",
        "plt.grid(True, linestyle='--', alpha=0.7)\n",
        "\n",
        "# Show the plot\n",
        "plt.tight_layout()\n",
        "plt.show()\n"
      ]
    },
    {
      "cell_type": "code",
      "source": [],
      "metadata": {
        "id": "wYYI7KGK-MyN"
      },
      "execution_count": null,
      "outputs": []
    },
    {
      "cell_type": "code",
      "source": [],
      "metadata": {
        "id": "6TbFCY0i-N6k"
      },
      "execution_count": null,
      "outputs": []
    }
  ],
  "metadata": {
    "colab": {
      "provenance": []
    },
    "kernelspec": {
      "display_name": "Python 3",
      "name": "python3"
    },
    "language_info": {
      "name": "python"
    }
  },
  "nbformat": 4,
  "nbformat_minor": 0
}